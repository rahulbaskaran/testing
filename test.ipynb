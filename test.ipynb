{
 "cells": [
  {
   "cell_type": "code",
   "execution_count": 3,
   "id": "88d3e298-97c9-49a7-896c-816c4a4b93b1",
   "metadata": {},
   "outputs": [
    {
     "name": "stdout",
     "output_type": "stream",
     "text": [
      "{1: {'name': 'Alice', 'age': 25, 'city': 'New York'}, 2: {'name': 'Bob', 'age': 30, 'city': 'San Francisco'}}\n"
     ]
    }
   ],
   "source": [
    "#sample-1\n",
    "from typing import List, Dict, Union\n",
    "\n",
    "def transform_data(rows: List[Dict[str, Union[str, int]]]) -> Dict[int, Dict[str, Union[str, int]]]:\n",
    "    transformed_data = {}\n",
    "    for row in rows:\n",
    "        user_id = row.pop('user_id')\n",
    "        transformed_data[user_id] = row\n",
    "    return transformed_data\n",
    "\n",
    "\n",
    "rows = [\n",
    "    {\"user_id\": 1, \"name\": \"Alice\", \"age\": 25, \"city\": \"New York\"},\n",
    "    {\"user_id\": 2, \"name\": \"Bob\", \"age\": 30, \"city\": \"San Francisco\"}\n",
    "]\n",
    "\n",
    "if __name__ == \"__main__\":\n",
    "    result = transform_data(rows)\n",
    "    print(result)"
   ]
  },
  {
   "cell_type": "code",
   "execution_count": null,
   "id": "0df5dd6a-5257-4512-a337-8cf9c48df3ad",
   "metadata": {},
   "outputs": [],
   "source": []
  }
 ],
 "metadata": {
  "kernelspec": {
   "display_name": "Python 3 (ipykernel)",
   "language": "python",
   "name": "python3"
  },
  "language_info": {
   "codemirror_mode": {
    "name": "ipython",
    "version": 3
   },
   "file_extension": ".py",
   "mimetype": "text/x-python",
   "name": "python",
   "nbconvert_exporter": "python",
   "pygments_lexer": "ipython3",
   "version": "3.10.1"
  }
 },
 "nbformat": 4,
 "nbformat_minor": 5
}
